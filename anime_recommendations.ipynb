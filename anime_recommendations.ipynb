{
  "nbformat": 4,
  "nbformat_minor": 0,
  "metadata": {
    "kernelspec": {
      "language": "python",
      "display_name": "Python 3",
      "name": "python3"
    },
    "language_info": {
      "pygments_lexer": "ipython3",
      "nbconvert_exporter": "python",
      "version": "3.6.4",
      "file_extension": ".py",
      "codemirror_mode": {
        "name": "ipython",
        "version": 3
      },
      "name": "python",
      "mimetype": "text/x-python"
    },
    "colab": {
      "name": "anime-recommendations.ipynb",
      "provenance": []
    }
  },
  "cells": [
    {
      "cell_type": "code",
      "metadata": {
        "trusted": true,
        "id": "rSclnYsvymau"
      },
      "source": [
        "import pandas as pd\n",
        "import numpy as np\n",
        "import matplotlib.pyplot as plt\n",
        "import seaborn as sns\n",
        "import re\n",
        "import string"
      ],
      "execution_count": null,
      "outputs": []
    },
    {
      "cell_type": "code",
      "metadata": {
        "trusted": true,
        "colab": {
          "base_uri": "https://localhost:8080/",
          "height": 643
        },
        "id": "Hy4BWYoAyma1",
        "outputId": "d6f04127-4535-4103-a2d9-f4c6ac8becfc"
      },
      "source": [
        "anime = pd.read_csv('/content/Anime_data.csv', encoding='latin')\n",
        "\n",
        "print('anime (shape):', anime.shape)\n",
        "anime.head()"
      ],
      "execution_count": null,
      "outputs": [
        {
          "output_type": "stream",
          "text": [
            "anime (shape): (17002, 15)\n"
          ],
          "name": "stdout"
        },
        {
          "output_type": "execute_result",
          "data": {
            "text/html": [
              "<div>\n",
              "<style scoped>\n",
              "    .dataframe tbody tr th:only-of-type {\n",
              "        vertical-align: middle;\n",
              "    }\n",
              "\n",
              "    .dataframe tbody tr th {\n",
              "        vertical-align: top;\n",
              "    }\n",
              "\n",
              "    .dataframe thead th {\n",
              "        text-align: right;\n",
              "    }\n",
              "</style>\n",
              "<table border=\"1\" class=\"dataframe\">\n",
              "  <thead>\n",
              "    <tr style=\"text-align: right;\">\n",
              "      <th></th>\n",
              "      <th>Anime_id</th>\n",
              "      <th>Title</th>\n",
              "      <th>Genre</th>\n",
              "      <th>Synopsis</th>\n",
              "      <th>Type</th>\n",
              "      <th>Producer</th>\n",
              "      <th>Studio</th>\n",
              "      <th>Rating</th>\n",
              "      <th>ScoredBy</th>\n",
              "      <th>Popularity</th>\n",
              "      <th>Members</th>\n",
              "      <th>Episodes</th>\n",
              "      <th>Source</th>\n",
              "      <th>Aired</th>\n",
              "      <th>Link</th>\n",
              "    </tr>\n",
              "  </thead>\n",
              "  <tbody>\n",
              "    <tr>\n",
              "      <th>0</th>\n",
              "      <td>1</td>\n",
              "      <td>Cowboy Bebop</td>\n",
              "      <td>['Action', 'Adventure', 'Comedy', 'Drama', 'Sc...</td>\n",
              "      <td>In the year 2071, humanity has colonized sever...</td>\n",
              "      <td>TV</td>\n",
              "      <td>['Bandai Visual']</td>\n",
              "      <td>['Sunrise']</td>\n",
              "      <td>8.81</td>\n",
              "      <td>363889.0</td>\n",
              "      <td>39.0</td>\n",
              "      <td>704490.0</td>\n",
              "      <td>26.0</td>\n",
              "      <td>Original</td>\n",
              "      <td>Apr 3, 1998 to Apr 24, 1999</td>\n",
              "      <td>https://myanimelist.net/anime/1/Cowboy_Bebop</td>\n",
              "    </tr>\n",
              "    <tr>\n",
              "      <th>1</th>\n",
              "      <td>5</td>\n",
              "      <td>Cowboy Bebop: Tengoku no Tobira</td>\n",
              "      <td>['Action', 'Space', 'Drama', 'Mystery', 'Sci-Fi']</td>\n",
              "      <td>Another day, another bountyâsuch is the life...</td>\n",
              "      <td>Movie</td>\n",
              "      <td>['Sunrise', 'Bandai Visual']</td>\n",
              "      <td>['Bones']</td>\n",
              "      <td>8.41</td>\n",
              "      <td>111187.0</td>\n",
              "      <td>475.0</td>\n",
              "      <td>179899.0</td>\n",
              "      <td>1.0</td>\n",
              "      <td>Original</td>\n",
              "      <td>Sep 1, 2001</td>\n",
              "      <td>https://myanimelist.net/anime/5/Cowboy_Bebop__...</td>\n",
              "    </tr>\n",
              "    <tr>\n",
              "      <th>2</th>\n",
              "      <td>6</td>\n",
              "      <td>Trigun</td>\n",
              "      <td>['Action', 'Sci-Fi', 'Adventure', 'Comedy', 'D...</td>\n",
              "      <td>Vash the Stampede is the man with a $$60,000,0...</td>\n",
              "      <td>TV</td>\n",
              "      <td>['Victor Entertainment']</td>\n",
              "      <td>['Madhouse']</td>\n",
              "      <td>8.31</td>\n",
              "      <td>197451.0</td>\n",
              "      <td>158.0</td>\n",
              "      <td>372709.0</td>\n",
              "      <td>26.0</td>\n",
              "      <td>Manga</td>\n",
              "      <td>Apr 1, 1998 to Sep 30, 1998</td>\n",
              "      <td>https://myanimelist.net/anime/6/Trigun</td>\n",
              "    </tr>\n",
              "    <tr>\n",
              "      <th>3</th>\n",
              "      <td>7</td>\n",
              "      <td>Witch Hunter Robin</td>\n",
              "      <td>['Action', 'Magic', 'Police', 'Supernatural', ...</td>\n",
              "      <td>Witches are individuals with special powers li...</td>\n",
              "      <td>TV</td>\n",
              "      <td>['Bandai Visual']</td>\n",
              "      <td>['Sunrise']</td>\n",
              "      <td>7.34</td>\n",
              "      <td>31875.0</td>\n",
              "      <td>1278.0</td>\n",
              "      <td>74889.0</td>\n",
              "      <td>26.0</td>\n",
              "      <td>Original</td>\n",
              "      <td>Jul 2, 2002 to Dec 24, 2002</td>\n",
              "      <td>https://myanimelist.net/anime/7/Witch_Hunter_R...</td>\n",
              "    </tr>\n",
              "    <tr>\n",
              "      <th>4</th>\n",
              "      <td>8</td>\n",
              "      <td>Bouken Ou Beet</td>\n",
              "      <td>['Adventure', 'Fantasy', 'Shounen', 'Supernatu...</td>\n",
              "      <td>It is the dark century and the people are suff...</td>\n",
              "      <td>TV</td>\n",
              "      <td>NaN</td>\n",
              "      <td>['Toei Animation']</td>\n",
              "      <td>7.04</td>\n",
              "      <td>4757.0</td>\n",
              "      <td>3968.0</td>\n",
              "      <td>11247.0</td>\n",
              "      <td>52.0</td>\n",
              "      <td>Manga</td>\n",
              "      <td>Sep 30, 2004 to Sep 29, 2005</td>\n",
              "      <td>https://myanimelist.net/anime/8/Bouken_Ou_Beet</td>\n",
              "    </tr>\n",
              "  </tbody>\n",
              "</table>\n",
              "</div>"
            ],
            "text/plain": [
              "   Anime_id  ...                                               Link\n",
              "0         1  ...       https://myanimelist.net/anime/1/Cowboy_Bebop\n",
              "1         5  ...  https://myanimelist.net/anime/5/Cowboy_Bebop__...\n",
              "2         6  ...             https://myanimelist.net/anime/6/Trigun\n",
              "3         7  ...  https://myanimelist.net/anime/7/Witch_Hunter_R...\n",
              "4         8  ...     https://myanimelist.net/anime/8/Bouken_Ou_Beet\n",
              "\n",
              "[5 rows x 15 columns]"
            ]
          },
          "metadata": {
            "tags": []
          },
          "execution_count": 2
        }
      ]
    },
    {
      "cell_type": "code",
      "metadata": {
        "trusted": true,
        "colab": {
          "base_uri": "https://localhost:8080/",
          "height": 417
        },
        "id": "zF52xBOXyma2",
        "outputId": "17aa59e3-7b3b-454f-9631-fa6e8a139612"
      },
      "source": [
        "display(anime[['Title', 'Rating', 'Producer', 'Studio']].loc[anime['Type'] == 'Movie'])"
      ],
      "execution_count": null,
      "outputs": [
        {
          "output_type": "display_data",
          "data": {
            "text/html": [
              "<div>\n",
              "<style scoped>\n",
              "    .dataframe tbody tr th:only-of-type {\n",
              "        vertical-align: middle;\n",
              "    }\n",
              "\n",
              "    .dataframe tbody tr th {\n",
              "        vertical-align: top;\n",
              "    }\n",
              "\n",
              "    .dataframe thead th {\n",
              "        text-align: right;\n",
              "    }\n",
              "</style>\n",
              "<table border=\"1\" class=\"dataframe\">\n",
              "  <thead>\n",
              "    <tr style=\"text-align: right;\">\n",
              "      <th></th>\n",
              "      <th>Title</th>\n",
              "      <th>Rating</th>\n",
              "      <th>Producer</th>\n",
              "      <th>Studio</th>\n",
              "    </tr>\n",
              "  </thead>\n",
              "  <tbody>\n",
              "    <tr>\n",
              "      <th>1</th>\n",
              "      <td>Cowboy Bebop: Tengoku no Tobira</td>\n",
              "      <td>8.41</td>\n",
              "      <td>['Sunrise', 'Bandai Visual']</td>\n",
              "      <td>['Bones']</td>\n",
              "    </tr>\n",
              "    <tr>\n",
              "      <th>22</th>\n",
              "      <td>Neon Genesis Evangelion: Death &amp; Rebirth</td>\n",
              "      <td>7.50</td>\n",
              "      <td>['Movic', 'Sega', 'TV Tokyo Music', 'Audio Tan...</td>\n",
              "      <td>['Gainax', 'Production I.G']</td>\n",
              "    </tr>\n",
              "    <tr>\n",
              "      <th>23</th>\n",
              "      <td>Neon Genesis Evangelion: The End of Evangelion</td>\n",
              "      <td>8.48</td>\n",
              "      <td>['TV Tokyo', 'Toei Animation', 'Kadokawa Shote...</td>\n",
              "      <td>['Gainax', 'Production I.G']</td>\n",
              "    </tr>\n",
              "    <tr>\n",
              "      <th>25</th>\n",
              "      <td>Koukaku Kidoutai</td>\n",
              "      <td>8.35</td>\n",
              "      <td>['Bandai Visual', 'Kodansha']</td>\n",
              "      <td>['Production I.G']</td>\n",
              "    </tr>\n",
              "    <tr>\n",
              "      <th>28</th>\n",
              "      <td>Rurouni Kenshin: Meiji Kenkaku Romantan - Ishi...</td>\n",
              "      <td>7.63</td>\n",
              "      <td>['Fuji TV', 'Sony Music Entertainment']</td>\n",
              "      <td>['Studio Gallop']</td>\n",
              "    </tr>\n",
              "    <tr>\n",
              "      <th>...</th>\n",
              "      <td>...</td>\n",
              "      <td>...</td>\n",
              "      <td>...</td>\n",
              "      <td>...</td>\n",
              "    </tr>\n",
              "    <tr>\n",
              "      <th>16978</th>\n",
              "      <td>UFO Robo Grendizer: Akai Yuuhi no Taiketsu</td>\n",
              "      <td>6.70</td>\n",
              "      <td>NaN</td>\n",
              "      <td>NaN</td>\n",
              "    </tr>\n",
              "    <tr>\n",
              "      <th>16980</th>\n",
              "      <td>Mazinger Z tai Dr. Hell</td>\n",
              "      <td>6.53</td>\n",
              "      <td>NaN</td>\n",
              "      <td>NaN</td>\n",
              "    </tr>\n",
              "    <tr>\n",
              "      <th>16985</th>\n",
              "      <td>Gegege no Kitarou: Chisougan</td>\n",
              "      <td>6.34</td>\n",
              "      <td>NaN</td>\n",
              "      <td>NaN</td>\n",
              "    </tr>\n",
              "    <tr>\n",
              "      <th>16986</th>\n",
              "      <td>Getter Robo (Movie)</td>\n",
              "      <td>6.08</td>\n",
              "      <td>NaN</td>\n",
              "      <td>NaN</td>\n",
              "    </tr>\n",
              "    <tr>\n",
              "      <th>16995</th>\n",
              "      <td>Ring Ring Boy</td>\n",
              "      <td>4.40</td>\n",
              "      <td>NaN</td>\n",
              "      <td>NaN</td>\n",
              "    </tr>\n",
              "  </tbody>\n",
              "</table>\n",
              "<p>2859 rows × 4 columns</p>\n",
              "</div>"
            ],
            "text/plain": [
              "                                                   Title  ...                        Studio\n",
              "1                        Cowboy Bebop: Tengoku no Tobira  ...                     ['Bones']\n",
              "22              Neon Genesis Evangelion: Death & Rebirth  ...  ['Gainax', 'Production I.G']\n",
              "23        Neon Genesis Evangelion: The End of Evangelion  ...  ['Gainax', 'Production I.G']\n",
              "25                                      Koukaku Kidoutai  ...            ['Production I.G']\n",
              "28     Rurouni Kenshin: Meiji Kenkaku Romantan - Ishi...  ...             ['Studio Gallop']\n",
              "...                                                  ...  ...                           ...\n",
              "16978         UFO Robo Grendizer: Akai Yuuhi no Taiketsu  ...                           NaN\n",
              "16980                            Mazinger Z tai Dr. Hell  ...                           NaN\n",
              "16985                       Gegege no Kitarou: Chisougan  ...                           NaN\n",
              "16986                                Getter Robo (Movie)  ...                           NaN\n",
              "16995                                      Ring Ring Boy  ...                           NaN\n",
              "\n",
              "[2859 rows x 4 columns]"
            ]
          },
          "metadata": {
            "tags": []
          }
        }
      ]
    },
    {
      "cell_type": "code",
      "metadata": {
        "trusted": true,
        "id": "2yr4eRwHyma3"
      },
      "source": [
        "def text_cleaning(text):\n",
        "    text = re.sub(r'&quot;', '', text)\n",
        "    text  = \"\".join([char for char in text if char not in string.punctuation])\n",
        "    text = re.sub(r'.hack//', '', text)\n",
        "    text = re.sub(r'&#039;', '', text)\n",
        "    text = re.sub(r'A&#039;s', '', text)\n",
        "    text = re.sub(r'I&#039;', 'I\\'', text)\n",
        "    text = re.sub(r'&amp;', 'and', text)\n",
        "    text = re.sub(r'Â°', '',text)\n",
        "    \n",
        "    return text\n",
        "\n",
        "anime['Title'] = anime['Title'].apply(text_cleaning)\n"
      ],
      "execution_count": null,
      "outputs": []
    },
    {
      "cell_type": "code",
      "metadata": {
        "trusted": true,
        "colab": {
          "base_uri": "https://localhost:8080/"
        },
        "id": "swA143CDyma4",
        "outputId": "53e690e6-1c34-4b97-fc5c-a5ab950740f5"
      },
      "source": [
        "anime.isnull().sum()"
      ],
      "execution_count": null,
      "outputs": [
        {
          "output_type": "execute_result",
          "data": {
            "text/plain": [
              "Anime_id         0\n",
              "Title            0\n",
              "Genre         2012\n",
              "Synopsis      1419\n",
              "Type           634\n",
              "Producer      9367\n",
              "Studio        9083\n",
              "Rating        2577\n",
              "ScoredBy      3775\n",
              "Popularity     634\n",
              "Members          0\n",
              "Episodes      2917\n",
              "Source        1927\n",
              "Aired          634\n",
              "Link           634\n",
              "dtype: int64"
            ]
          },
          "metadata": {
            "tags": []
          },
          "execution_count": 5
        }
      ]
    },
    {
      "cell_type": "code",
      "metadata": {
        "trusted": true,
        "colab": {
          "base_uri": "https://localhost:8080/",
          "height": 295
        },
        "id": "CnVpLTL0yma5",
        "outputId": "747dcb9a-afd9-48df-c490-7fe83758d94f"
      },
      "source": [
        "anime.describe()"
      ],
      "execution_count": null,
      "outputs": [
        {
          "output_type": "execute_result",
          "data": {
            "text/html": [
              "<div>\n",
              "<style scoped>\n",
              "    .dataframe tbody tr th:only-of-type {\n",
              "        vertical-align: middle;\n",
              "    }\n",
              "\n",
              "    .dataframe tbody tr th {\n",
              "        vertical-align: top;\n",
              "    }\n",
              "\n",
              "    .dataframe thead th {\n",
              "        text-align: right;\n",
              "    }\n",
              "</style>\n",
              "<table border=\"1\" class=\"dataframe\">\n",
              "  <thead>\n",
              "    <tr style=\"text-align: right;\">\n",
              "      <th></th>\n",
              "      <th>Anime_id</th>\n",
              "      <th>Rating</th>\n",
              "      <th>ScoredBy</th>\n",
              "      <th>Popularity</th>\n",
              "      <th>Members</th>\n",
              "      <th>Episodes</th>\n",
              "    </tr>\n",
              "  </thead>\n",
              "  <tbody>\n",
              "    <tr>\n",
              "      <th>count</th>\n",
              "      <td>17002.000000</td>\n",
              "      <td>14425.000000</td>\n",
              "      <td>1.322700e+04</td>\n",
              "      <td>16368.000000</td>\n",
              "      <td>1.700200e+04</td>\n",
              "      <td>14085.000000</td>\n",
              "    </tr>\n",
              "    <tr>\n",
              "      <th>mean</th>\n",
              "      <td>20446.579638</td>\n",
              "      <td>6.287867</td>\n",
              "      <td>1.139084e+04</td>\n",
              "      <td>8131.919599</td>\n",
              "      <td>2.038130e+04</td>\n",
              "      <td>11.482712</td>\n",
              "    </tr>\n",
              "    <tr>\n",
              "      <th>std</th>\n",
              "      <td>14342.513259</td>\n",
              "      <td>1.141401</td>\n",
              "      <td>4.328434e+04</td>\n",
              "      <td>4714.683351</td>\n",
              "      <td>7.121404e+04</td>\n",
              "      <td>44.089040</td>\n",
              "    </tr>\n",
              "    <tr>\n",
              "      <th>min</th>\n",
              "      <td>1.000000</td>\n",
              "      <td>1.000000</td>\n",
              "      <td>1.000000e+00</td>\n",
              "      <td>1.000000</td>\n",
              "      <td>0.000000e+00</td>\n",
              "      <td>1.000000</td>\n",
              "    </tr>\n",
              "    <tr>\n",
              "      <th>25%</th>\n",
              "      <td>5581.500000</td>\n",
              "      <td>5.620000</td>\n",
              "      <td>4.300000e+01</td>\n",
              "      <td>4042.500000</td>\n",
              "      <td>1.450000e+02</td>\n",
              "      <td>1.000000</td>\n",
              "    </tr>\n",
              "    <tr>\n",
              "      <th>50%</th>\n",
              "      <td>21334.000000</td>\n",
              "      <td>6.410000</td>\n",
              "      <td>4.780000e+02</td>\n",
              "      <td>8115.000000</td>\n",
              "      <td>1.113000e+03</td>\n",
              "      <td>1.000000</td>\n",
              "    </tr>\n",
              "    <tr>\n",
              "      <th>75%</th>\n",
              "      <td>34789.250000</td>\n",
              "      <td>7.090000</td>\n",
              "      <td>3.831000e+03</td>\n",
              "      <td>12208.250000</td>\n",
              "      <td>7.855750e+03</td>\n",
              "      <td>12.000000</td>\n",
              "    </tr>\n",
              "    <tr>\n",
              "      <th>max</th>\n",
              "      <td>40960.000000</td>\n",
              "      <td>10.000000</td>\n",
              "      <td>1.006242e+06</td>\n",
              "      <td>16338.000000</td>\n",
              "      <td>1.451708e+06</td>\n",
              "      <td>1818.000000</td>\n",
              "    </tr>\n",
              "  </tbody>\n",
              "</table>\n",
              "</div>"
            ],
            "text/plain": [
              "           Anime_id        Rating  ...       Members      Episodes\n",
              "count  17002.000000  14425.000000  ...  1.700200e+04  14085.000000\n",
              "mean   20446.579638      6.287867  ...  2.038130e+04     11.482712\n",
              "std    14342.513259      1.141401  ...  7.121404e+04     44.089040\n",
              "min        1.000000      1.000000  ...  0.000000e+00      1.000000\n",
              "25%     5581.500000      5.620000  ...  1.450000e+02      1.000000\n",
              "50%    21334.000000      6.410000  ...  1.113000e+03      1.000000\n",
              "75%    34789.250000      7.090000  ...  7.855750e+03     12.000000\n",
              "max    40960.000000     10.000000  ...  1.451708e+06   1818.000000\n",
              "\n",
              "[8 rows x 6 columns]"
            ]
          },
          "metadata": {
            "tags": []
          },
          "execution_count": 6
        }
      ]
    },
    {
      "cell_type": "code",
      "metadata": {
        "trusted": true,
        "colab": {
          "base_uri": "https://localhost:8080/"
        },
        "id": "bcWjdG-hyma5",
        "outputId": "8af3b412-92c9-4720-b045-de1ce99cf64a"
      },
      "source": [
        "C = anime['Rating'].mean()\n",
        "C"
      ],
      "execution_count": null,
      "outputs": [
        {
          "output_type": "execute_result",
          "data": {
            "text/plain": [
              "6.287866897746972"
            ]
          },
          "metadata": {
            "tags": []
          },
          "execution_count": 7
        }
      ]
    },
    {
      "cell_type": "code",
      "metadata": {
        "trusted": true,
        "colab": {
          "base_uri": "https://localhost:8080/"
        },
        "id": "yViVSqyfyma6",
        "outputId": "00722260-4268-4beb-9607-06debed0ff54"
      },
      "source": [
        "anime['ScoredBy'].describe()"
      ],
      "execution_count": null,
      "outputs": [
        {
          "output_type": "execute_result",
          "data": {
            "text/plain": [
              "count    1.322700e+04\n",
              "mean     1.139084e+04\n",
              "std      4.328434e+04\n",
              "min      1.000000e+00\n",
              "25%      4.300000e+01\n",
              "50%      4.780000e+02\n",
              "75%      3.831000e+03\n",
              "max      1.006242e+06\n",
              "Name: ScoredBy, dtype: float64"
            ]
          },
          "metadata": {
            "tags": []
          },
          "execution_count": 8
        }
      ]
    },
    {
      "cell_type": "code",
      "metadata": {
        "trusted": true,
        "colab": {
          "base_uri": "https://localhost:8080/"
        },
        "id": "fUooUeCAyma7",
        "outputId": "1bc894dc-0a4e-423f-ba63-1774f467e174"
      },
      "source": [
        "m = anime['ScoredBy'].quantile(0.85)\n",
        "m"
      ],
      "execution_count": null,
      "outputs": [
        {
          "output_type": "execute_result",
          "data": {
            "text/plain": [
              "12407.400000000009"
            ]
          },
          "metadata": {
            "tags": []
          },
          "execution_count": 9
        }
      ]
    },
    {
      "cell_type": "code",
      "metadata": {
        "trusted": true,
        "colab": {
          "base_uri": "https://localhost:8080/"
        },
        "id": "1S1rP8mwyma8",
        "outputId": "98900877-1d97-4f42-af61-65b661e6f66f"
      },
      "source": [
        "q_animes = anime.copy().loc[anime['ScoredBy'] >= m]\n",
        "q_animes.shape"
      ],
      "execution_count": null,
      "outputs": [
        {
          "output_type": "execute_result",
          "data": {
            "text/plain": [
              "(1984, 15)"
            ]
          },
          "metadata": {
            "tags": []
          },
          "execution_count": 10
        }
      ]
    },
    {
      "cell_type": "code",
      "metadata": {
        "trusted": true,
        "id": "_bHscK4Syma8"
      },
      "source": [
        "def weighted_rating(x, m=m, C=C):\n",
        "    v = x['ScoredBy']\n",
        "    R = x['Rating']\n",
        "    # Calculation based on the IMDB formula\n",
        "    return (v/(v+m) * R) + (m/(m+v) * C)"
      ],
      "execution_count": null,
      "outputs": []
    },
    {
      "cell_type": "code",
      "metadata": {
        "trusted": true,
        "id": "9Qibwmwuyma9"
      },
      "source": [
        "q_animes['Score'] = q_animes.apply(weighted_rating, axis=1)"
      ],
      "execution_count": null,
      "outputs": []
    },
    {
      "cell_type": "code",
      "metadata": {
        "trusted": true,
        "colab": {
          "base_uri": "https://localhost:8080/",
          "height": 511
        },
        "id": "iGQTuGu6yma9",
        "outputId": "3f9ed47e-452c-4b11-8437-1ddf8dfba018"
      },
      "source": [
        "q_animes = q_animes.sort_values('Score', ascending=False)\n",
        "q_animes[['Title', 'ScoredBy', 'Rating', 'Score']].head(15)"
      ],
      "execution_count": null,
      "outputs": [
        {
          "output_type": "execute_result",
          "data": {
            "text/html": [
              "<div>\n",
              "<style scoped>\n",
              "    .dataframe tbody tr th:only-of-type {\n",
              "        vertical-align: middle;\n",
              "    }\n",
              "\n",
              "    .dataframe tbody tr th {\n",
              "        vertical-align: top;\n",
              "    }\n",
              "\n",
              "    .dataframe thead th {\n",
              "        text-align: right;\n",
              "    }\n",
              "</style>\n",
              "<table border=\"1\" class=\"dataframe\">\n",
              "  <thead>\n",
              "    <tr style=\"text-align: right;\">\n",
              "      <th></th>\n",
              "      <th>Title</th>\n",
              "      <th>ScoredBy</th>\n",
              "      <th>Rating</th>\n",
              "      <th>Score</th>\n",
              "    </tr>\n",
              "  </thead>\n",
              "  <tbody>\n",
              "    <tr>\n",
              "      <th>3634</th>\n",
              "      <td>Fullmetal Alchemist Brotherhood</td>\n",
              "      <td>730784.0</td>\n",
              "      <td>9.25</td>\n",
              "      <td>9.200548</td>\n",
              "    </tr>\n",
              "    <tr>\n",
              "      <th>10110</th>\n",
              "      <td>Kimi no Na wa</td>\n",
              "      <td>467437.0</td>\n",
              "      <td>9.19</td>\n",
              "      <td>9.114959</td>\n",
              "    </tr>\n",
              "    <tr>\n",
              "      <th>5031</th>\n",
              "      <td>SteinsGate</td>\n",
              "      <td>561405.0</td>\n",
              "      <td>9.14</td>\n",
              "      <td>9.078329</td>\n",
              "    </tr>\n",
              "    <tr>\n",
              "      <th>5725</th>\n",
              "      <td>Hunter x Hunter 2011</td>\n",
              "      <td>400879.0</td>\n",
              "      <td>9.11</td>\n",
              "      <td>9.025276</td>\n",
              "    </tr>\n",
              "    <tr>\n",
              "      <th>8695</th>\n",
              "      <td>Koe no Katachi</td>\n",
              "      <td>293169.0</td>\n",
              "      <td>9.04</td>\n",
              "      <td>8.928254</td>\n",
              "    </tr>\n",
              "    <tr>\n",
              "      <th>3263</th>\n",
              "      <td>Clannad After Story</td>\n",
              "      <td>362434.0</td>\n",
              "      <td>9.01</td>\n",
              "      <td>8.919896</td>\n",
              "    </tr>\n",
              "    <tr>\n",
              "      <th>2461</th>\n",
              "      <td>Code Geass Hangyaku no Lelouch R2</td>\n",
              "      <td>541989.0</td>\n",
              "      <td>8.95</td>\n",
              "      <td>8.890421</td>\n",
              "    </tr>\n",
              "    <tr>\n",
              "      <th>183</th>\n",
              "      <td>Sen to Chihiro no Kamikakushi</td>\n",
              "      <td>496902.0</td>\n",
              "      <td>8.92</td>\n",
              "      <td>8.855878</td>\n",
              "    </tr>\n",
              "    <tr>\n",
              "      <th>7747</th>\n",
              "      <td>Shigatsu wa Kimi no Uso</td>\n",
              "      <td>411504.0</td>\n",
              "      <td>8.88</td>\n",
              "      <td>8.804131</td>\n",
              "    </tr>\n",
              "    <tr>\n",
              "      <th>10432</th>\n",
              "      <td>Haikyuu Karasuno Koukou vs Shiratorizawa Gakue...</td>\n",
              "      <td>157302.0</td>\n",
              "      <td>8.99</td>\n",
              "      <td>8.792448</td>\n",
              "    </tr>\n",
              "    <tr>\n",
              "      <th>726</th>\n",
              "      <td>Gintama</td>\n",
              "      <td>141307.0</td>\n",
              "      <td>9.01</td>\n",
              "      <td>8.790277</td>\n",
              "    </tr>\n",
              "    <tr>\n",
              "      <th>5299</th>\n",
              "      <td>Gintama</td>\n",
              "      <td>91661.0</td>\n",
              "      <td>9.11</td>\n",
              "      <td>8.773535</td>\n",
              "    </tr>\n",
              "    <tr>\n",
              "      <th>1292</th>\n",
              "      <td>Code Geass Hangyaku no Lelouch</td>\n",
              "      <td>625466.0</td>\n",
              "      <td>8.79</td>\n",
              "      <td>8.741331</td>\n",
              "    </tr>\n",
              "    <tr>\n",
              "      <th>0</th>\n",
              "      <td>Cowboy Bebop</td>\n",
              "      <td>363889.0</td>\n",
              "      <td>8.81</td>\n",
              "      <td>8.726839</td>\n",
              "    </tr>\n",
              "    <tr>\n",
              "      <th>11335</th>\n",
              "      <td>Made in Abyss</td>\n",
              "      <td>164813.0</td>\n",
              "      <td>8.91</td>\n",
              "      <td>8.726422</td>\n",
              "    </tr>\n",
              "  </tbody>\n",
              "</table>\n",
              "</div>"
            ],
            "text/plain": [
              "                                                   Title  ...     Score\n",
              "3634                     Fullmetal Alchemist Brotherhood  ...  9.200548\n",
              "10110                                      Kimi no Na wa  ...  9.114959\n",
              "5031                                          SteinsGate  ...  9.078329\n",
              "5725                                Hunter x Hunter 2011  ...  9.025276\n",
              "8695                                      Koe no Katachi  ...  8.928254\n",
              "3263                                 Clannad After Story  ...  8.919896\n",
              "2461                   Code Geass Hangyaku no Lelouch R2  ...  8.890421\n",
              "183                        Sen to Chihiro no Kamikakushi  ...  8.855878\n",
              "7747                             Shigatsu wa Kimi no Uso  ...  8.804131\n",
              "10432  Haikyuu Karasuno Koukou vs Shiratorizawa Gakue...  ...  8.792448\n",
              "726                                              Gintama  ...  8.790277\n",
              "5299                                             Gintama  ...  8.773535\n",
              "1292                      Code Geass Hangyaku no Lelouch  ...  8.741331\n",
              "0                                           Cowboy Bebop  ...  8.726839\n",
              "11335                                      Made in Abyss  ...  8.726422\n",
              "\n",
              "[15 rows x 4 columns]"
            ]
          },
          "metadata": {
            "tags": []
          },
          "execution_count": 13
        }
      ]
    },
    {
      "cell_type": "code",
      "metadata": {
        "trusted": true,
        "colab": {
          "base_uri": "https://localhost:8080/",
          "height": 672
        },
        "id": "yRcHPTblyma9",
        "outputId": "9257c547-6f2a-4cdb-cd98-df36f43d9e57"
      },
      "source": [
        "plt.figure(figsize=(12, 3), dpi=100)\n",
        "\n",
        "\n",
        "best_score = q_animes.sort_values(by=['Score'], ascending=False)[:10]\n",
        "\n",
        "\n",
        "g = sns.barplot(best_score[\"Title\"], best_score['Score'], palette=\"spring_r\")\n",
        "plt.ylabel(\"Score\", color = 'b')\n",
        "plt.xticks(rotation=45, horizontalalignment='right', color = 'b')\n",
        "plt.title('Really good animes', fontweight='bold', fontsize=15, color = 'b');"
      ],
      "execution_count": null,
      "outputs": [
        {
          "output_type": "stream",
          "text": [
            "/usr/local/lib/python3.7/dist-packages/seaborn/_decorators.py:43: FutureWarning: Pass the following variables as keyword args: x, y. From version 0.12, the only valid positional argument will be `data`, and passing other arguments without an explicit keyword will result in an error or misinterpretation.\n",
            "  FutureWarning\n"
          ],
          "name": "stderr"
        },
        {
          "output_type": "display_data",
          "data": {
            "image/png": "[encoded data removed]",
            "text/plain": [
              "<Figure size 1200x300 with 1 Axes>"
            ]
          },
          "metadata": {
            "tags": [],
            "needs_background": "light"
          }
        }
      ]
    },
    {
      "cell_type": "code",
      "metadata": {
        "trusted": true,
        "colab": {
          "base_uri": "https://localhost:8080/",
          "height": 388
        },
        "id": "gCvvscsiyma-",
        "outputId": "8e9bd14d-b203-4e37-d0e7-68b1100eb79a"
      },
      "source": [
        "best_scores = best_score[['Score','Title','Genre', 'Studio', 'Type']].set_index('Title')\n",
        "display(best_scores)"
      ],
      "execution_count": null,
      "outputs": [
        {
          "output_type": "display_data",
          "data": {
            "text/html": [
              "<div>\n",
              "<style scoped>\n",
              "    .dataframe tbody tr th:only-of-type {\n",
              "        vertical-align: middle;\n",
              "    }\n",
              "\n",
              "    .dataframe tbody tr th {\n",
              "        vertical-align: top;\n",
              "    }\n",
              "\n",
              "    .dataframe thead th {\n",
              "        text-align: right;\n",
              "    }\n",
              "</style>\n",
              "<table border=\"1\" class=\"dataframe\">\n",
              "  <thead>\n",
              "    <tr style=\"text-align: right;\">\n",
              "      <th></th>\n",
              "      <th>Score</th>\n",
              "      <th>Genre</th>\n",
              "      <th>Studio</th>\n",
              "      <th>Type</th>\n",
              "    </tr>\n",
              "    <tr>\n",
              "      <th>Title</th>\n",
              "      <th></th>\n",
              "      <th></th>\n",
              "      <th></th>\n",
              "      <th></th>\n",
              "    </tr>\n",
              "  </thead>\n",
              "  <tbody>\n",
              "    <tr>\n",
              "      <th>Fullmetal Alchemist Brotherhood</th>\n",
              "      <td>9.200548</td>\n",
              "      <td>['Action', 'Military', 'Adventure', 'Comedy', ...</td>\n",
              "      <td>['Bones']</td>\n",
              "      <td>TV</td>\n",
              "    </tr>\n",
              "    <tr>\n",
              "      <th>Kimi no Na wa</th>\n",
              "      <td>9.114959</td>\n",
              "      <td>['Supernatural', 'Drama', 'Romance', 'School']</td>\n",
              "      <td>['CoMix Wave Films']</td>\n",
              "      <td>Movie</td>\n",
              "    </tr>\n",
              "    <tr>\n",
              "      <th>SteinsGate</th>\n",
              "      <td>9.078329</td>\n",
              "      <td>['Thriller', 'Sci-Fi']</td>\n",
              "      <td>['White Fox']</td>\n",
              "      <td>TV</td>\n",
              "    </tr>\n",
              "    <tr>\n",
              "      <th>Hunter x Hunter 2011</th>\n",
              "      <td>9.025276</td>\n",
              "      <td>['Action', 'Adventure', 'Super Power', 'Shounen']</td>\n",
              "      <td>['Madhouse']</td>\n",
              "      <td>TV</td>\n",
              "    </tr>\n",
              "    <tr>\n",
              "      <th>Koe no Katachi</th>\n",
              "      <td>8.928254</td>\n",
              "      <td>['Drama', 'School', 'Shounen']</td>\n",
              "      <td>['Kyoto Animation']</td>\n",
              "      <td>Movie</td>\n",
              "    </tr>\n",
              "    <tr>\n",
              "      <th>Clannad After Story</th>\n",
              "      <td>8.919896</td>\n",
              "      <td>['Slice of Life', 'Comedy', 'Supernatural', 'D...</td>\n",
              "      <td>['Kyoto Animation']</td>\n",
              "      <td>TV</td>\n",
              "    </tr>\n",
              "    <tr>\n",
              "      <th>Code Geass Hangyaku no Lelouch R2</th>\n",
              "      <td>8.890421</td>\n",
              "      <td>['Action', 'Military', 'Sci-Fi', 'Super Power'...</td>\n",
              "      <td>['Sunrise']</td>\n",
              "      <td>TV</td>\n",
              "    </tr>\n",
              "    <tr>\n",
              "      <th>Sen to Chihiro no Kamikakushi</th>\n",
              "      <td>8.855878</td>\n",
              "      <td>['Adventure', 'Supernatural', 'Drama']</td>\n",
              "      <td>['Studio Ghibli']</td>\n",
              "      <td>Movie</td>\n",
              "    </tr>\n",
              "    <tr>\n",
              "      <th>Shigatsu wa Kimi no Uso</th>\n",
              "      <td>8.804131</td>\n",
              "      <td>['Drama', 'Music', 'Romance', 'School', 'Shoun...</td>\n",
              "      <td>['A-1 Pictures']</td>\n",
              "      <td>TV</td>\n",
              "    </tr>\n",
              "    <tr>\n",
              "      <th>Haikyuu Karasuno Koukou vs Shiratorizawa Gakuen Koukou</th>\n",
              "      <td>8.792448</td>\n",
              "      <td>['Comedy', 'Sports', 'Drama', 'School', 'Shoun...</td>\n",
              "      <td>['Production I.G']</td>\n",
              "      <td>TV</td>\n",
              "    </tr>\n",
              "  </tbody>\n",
              "</table>\n",
              "</div>"
            ],
            "text/plain": [
              "                                                       Score  ...   Type\n",
              "Title                                                         ...       \n",
              "Fullmetal Alchemist Brotherhood                     9.200548  ...     TV\n",
              "Kimi no Na wa                                       9.114959  ...  Movie\n",
              "SteinsGate                                          9.078329  ...     TV\n",
              "Hunter x Hunter 2011                                9.025276  ...     TV\n",
              "Koe no Katachi                                      8.928254  ...  Movie\n",
              "Clannad After Story                                 8.919896  ...     TV\n",
              "Code Geass Hangyaku no Lelouch R2                   8.890421  ...     TV\n",
              "Sen to Chihiro no Kamikakushi                       8.855878  ...  Movie\n",
              "Shigatsu wa Kimi no Uso                             8.804131  ...     TV\n",
              "Haikyuu Karasuno Koukou vs Shiratorizawa Gakuen...  8.792448  ...     TV\n",
              "\n",
              "[10 rows x 4 columns]"
            ]
          },
          "metadata": {
            "tags": []
          }
        }
      ]
    },
    {
      "cell_type": "code",
      "metadata": {
        "trusted": true,
        "colab": {
          "base_uri": "https://localhost:8080/"
        },
        "id": "6vv_P98vyma-",
        "outputId": "be14ab1d-c2d5-4697-bc5a-01e3737aba06"
      },
      "source": [
        "anime['Synopsis'].isnull().sum()"
      ],
      "execution_count": null,
      "outputs": [
        {
          "output_type": "execute_result",
          "data": {
            "text/plain": [
              "1419"
            ]
          },
          "metadata": {
            "tags": []
          },
          "execution_count": 16
        }
      ]
    },
    {
      "cell_type": "code",
      "metadata": {
        "trusted": true,
        "id": "Zn70Bc2byma-"
      },
      "source": [
        "anime['Synopsis'] = anime['Synopsis'].fillna('')"
      ],
      "execution_count": null,
      "outputs": []
    },
    {
      "cell_type": "code",
      "metadata": {
        "trusted": true,
        "colab": {
          "base_uri": "https://localhost:8080/"
        },
        "id": "JnYAJSTCyma_",
        "outputId": "b77de067-d837-4abe-a772-b34136293886"
      },
      "source": [
        "from sklearn.feature_extraction.text import TfidfVectorizer\n",
        "tfidf = TfidfVectorizer(stop_words='english')\n",
        "\n",
        "tfidf_matrix = tfidf.fit_transform(anime['Synopsis'])\n",
        "\n",
        "tfidf_matrix.shape"
      ],
      "execution_count": null,
      "outputs": [
        {
          "output_type": "execute_result",
          "data": {
            "text/plain": [
              "(17002, 45350)"
            ]
          },
          "metadata": {
            "tags": []
          },
          "execution_count": 18
        }
      ]
    },
    {
      "cell_type": "code",
      "metadata": {
        "trusted": true,
        "colab": {
          "base_uri": "https://localhost:8080/"
        },
        "id": "6YRjyS7Vyma_",
        "outputId": "580a0807-5b2b-427e-e6bb-d065618d1afd"
      },
      "source": [
        "from sklearn.metrics.pairwise import linear_kernel\n",
        "\n",
        "cosine_sim = linear_kernel(tfidf_matrix, tfidf_matrix)\n",
        "cosine_sim"
      ],
      "execution_count": null,
      "outputs": [
        {
          "output_type": "execute_result",
          "data": {
            "text/plain": [
              "array([[1.        , 0.22691949, 0.02116274, ..., 0.        , 0.        ,\n",
              "        0.        ],\n",
              "       [0.22691949, 1.        , 0.03335443, ..., 0.        , 0.        ,\n",
              "        0.        ],\n",
              "       [0.02116274, 0.03335443, 1.        , ..., 0.        , 0.        ,\n",
              "        0.        ],\n",
              "       ...,\n",
              "       [0.        , 0.        , 0.        , ..., 0.        , 0.        ,\n",
              "        0.        ],\n",
              "       [0.        , 0.        , 0.        , ..., 0.        , 0.        ,\n",
              "        0.        ],\n",
              "       [0.        , 0.        , 0.        , ..., 0.        , 0.        ,\n",
              "        0.        ]])"
            ]
          },
          "metadata": {
            "tags": []
          },
          "execution_count": 19
        }
      ]
    },
    {
      "cell_type": "code",
      "metadata": {
        "trusted": true,
        "colab": {
          "base_uri": "https://localhost:8080/"
        },
        "id": "4R9uXoVSyma_",
        "outputId": "e530d7b0-7f56-4b48-8314-144bc1917580"
      },
      "source": [
        "indices = pd.Series(anime.index, index=anime['Title']).drop_duplicates()\n",
        "indices"
      ],
      "execution_count": null,
      "outputs": [
        {
          "output_type": "execute_result",
          "data": {
            "text/plain": [
              "Title\n",
              "Cowboy Bebop                                         0\n",
              "Cowboy Bebop Tengoku no Tobira                       1\n",
              "Trigun                                               2\n",
              "Witch Hunter Robin                                   3\n",
              "Bouken Ou Beet                                       4\n",
              "                                                 ...  \n",
              "Sore Ike Anpanman Anpanman to Kaizoku Lobster    16997\n",
              "X Bomber                                         16998\n",
              "X Bomber Pilot                                   16999\n",
              "Gankochan                                        17000\n",
              "Original CVP Momoko                              17001\n",
              "Length: 17002, dtype: int64"
            ]
          },
          "metadata": {
            "tags": []
          },
          "execution_count": 20
        }
      ]
    },
    {
      "cell_type": "code",
      "metadata": {
        "trusted": true,
        "id": "cOx6z2Vwyma_"
      },
      "source": [
        "def get_recommendations(title, cosine_sim=cosine_sim):\n",
        "    \n",
        "    idx = indices[title]\n",
        "\n",
        "    sim_scores = list(enumerate(cosine_sim[idx]))\n",
        "\n",
        "    sim_scores = sorted(sim_scores, key=lambda x: x[1], reverse=True)\n",
        "\n",
        "    # Get the scores of the 15 most similar movies\n",
        "    sim_scores = sim_scores[1:16]\n",
        "    \n",
        "    movie_indices = [i[0] for i in sim_scores]\n",
        "\n",
        "    return anime['Title'].iloc[movie_indices]"
      ],
      "execution_count": null,
      "outputs": []
    },
    {
      "cell_type": "code",
      "metadata": {
        "trusted": true,
        "colab": {
          "base_uri": "https://localhost:8080/"
        },
        "id": "m2WbPRZkymbA",
        "outputId": "d3d5dba3-3149-4d92-e332-d2594cf4a7d4"
      },
      "source": [
        "get_recommendations('Sen to Chihiro no Kamikakushi')"
      ],
      "execution_count": null,
      "outputs": [
        {
          "output_type": "execute_result",
          "data": {
            "text/plain": [
              "10061                                Shounen Maid\n",
              "16592                                    Sankarea\n",
              "570                            Kujibiki Unbalance\n",
              "4622                          Suki Desu Suzukikun\n",
              "5653        Kami nomi zo Shiru Sekai 4nin to Idol\n",
              "3348                  KerakuNoOH King of Pleasure\n",
              "10666                         Kushimitama Samurai\n",
              "6011                                 Sankarea OVA\n",
              "2472                        ef A Tale of Memories\n",
              "2874                                    Kiss yori\n",
              "4284         ef A Tale of Memories  Recollections\n",
              "752                                    Jyu Oh Sei\n",
              "15714                          Cinnamon no Parade\n",
              "15170    Naruto Shippuuden Movie 6  Road to Ninja\n",
              "12846                              Mirai no Mirai\n",
              "Name: Title, dtype: object"
            ]
          },
          "metadata": {
            "tags": []
          },
          "execution_count": 22
        }
      ]
    },
    {
      "cell_type": "code",
      "metadata": {
        "trusted": true,
        "colab": {
          "base_uri": "https://localhost:8080/"
        },
        "id": "qr9Ce_LFymbA",
        "outputId": "e96324db-202e-487d-85f1-2e924b500dc1"
      },
      "source": [
        "get_recommendations('Koe no Katachi')"
      ],
      "execution_count": null,
      "outputs": [
        {
          "output_type": "execute_result",
          "data": {
            "text/plain": [
              "13934    Seishun Buta Yarou wa Yumemiru Shoujo no Yume ...\n",
              "1272                                      Asatte no Houkou\n",
              "5739                                          Hero Herokun\n",
              "1756                                                  Pops\n",
              "9572                                     Yuujou no Kickoff\n",
              "6659                                          Danchi Tomoo\n",
              "4837                        Fortune Arterial Akai Yakusoku\n",
              "6786                         Kakumeiki Valvrave 2nd Season\n",
              "14565                               Tomo Tabidachi no Toki\n",
              "16431                                    Momons Sand Witch\n",
              "9375                         Gakuen Handsome The Animation\n",
              "10688                                      Gakuen Handsome\n",
              "6646                                        Harisu no Kaze\n",
              "13293                    Hitoribocchi no Marumaru Seikatsu\n",
              "11405                                           Tejina Shi\n",
              "Name: Title, dtype: object"
            ]
          },
          "metadata": {
            "tags": []
          },
          "execution_count": 23
        }
      ]
    },
    {
      "cell_type": "code",
      "metadata": {
        "trusted": true,
        "colab": {
          "base_uri": "https://localhost:8080/",
          "height": 265
        },
        "id": "lxBSpWEvymbA",
        "outputId": "850d83f7-4ed3-4c74-a905-a2cc29170c67"
      },
      "source": [
        "anime.head(2)"
      ],
      "execution_count": null,
      "outputs": [
        {
          "output_type": "execute_result",
          "data": {
            "text/html": [
              "<div>\n",
              "<style scoped>\n",
              "    .dataframe tbody tr th:only-of-type {\n",
              "        vertical-align: middle;\n",
              "    }\n",
              "\n",
              "    .dataframe tbody tr th {\n",
              "        vertical-align: top;\n",
              "    }\n",
              "\n",
              "    .dataframe thead th {\n",
              "        text-align: right;\n",
              "    }\n",
              "</style>\n",
              "<table border=\"1\" class=\"dataframe\">\n",
              "  <thead>\n",
              "    <tr style=\"text-align: right;\">\n",
              "      <th></th>\n",
              "      <th>Anime_id</th>\n",
              "      <th>Title</th>\n",
              "      <th>Genre</th>\n",
              "      <th>Synopsis</th>\n",
              "      <th>Type</th>\n",
              "      <th>Producer</th>\n",
              "      <th>Studio</th>\n",
              "      <th>Rating</th>\n",
              "      <th>ScoredBy</th>\n",
              "      <th>Popularity</th>\n",
              "      <th>Members</th>\n",
              "      <th>Episodes</th>\n",
              "      <th>Source</th>\n",
              "      <th>Aired</th>\n",
              "      <th>Link</th>\n",
              "    </tr>\n",
              "  </thead>\n",
              "  <tbody>\n",
              "    <tr>\n",
              "      <th>0</th>\n",
              "      <td>1</td>\n",
              "      <td>Cowboy Bebop</td>\n",
              "      <td>['Action', 'Adventure', 'Comedy', 'Drama', 'Sc...</td>\n",
              "      <td>In the year 2071, humanity has colonized sever...</td>\n",
              "      <td>TV</td>\n",
              "      <td>['Bandai Visual']</td>\n",
              "      <td>['Sunrise']</td>\n",
              "      <td>8.81</td>\n",
              "      <td>363889.0</td>\n",
              "      <td>39.0</td>\n",
              "      <td>704490.0</td>\n",
              "      <td>26.0</td>\n",
              "      <td>Original</td>\n",
              "      <td>Apr 3, 1998 to Apr 24, 1999</td>\n",
              "      <td>https://myanimelist.net/anime/1/Cowboy_Bebop</td>\n",
              "    </tr>\n",
              "    <tr>\n",
              "      <th>1</th>\n",
              "      <td>5</td>\n",
              "      <td>Cowboy Bebop Tengoku no Tobira</td>\n",
              "      <td>['Action', 'Space', 'Drama', 'Mystery', 'Sci-Fi']</td>\n",
              "      <td>Another day, another bountyâsuch is the life...</td>\n",
              "      <td>Movie</td>\n",
              "      <td>['Sunrise', 'Bandai Visual']</td>\n",
              "      <td>['Bones']</td>\n",
              "      <td>8.41</td>\n",
              "      <td>111187.0</td>\n",
              "      <td>475.0</td>\n",
              "      <td>179899.0</td>\n",
              "      <td>1.0</td>\n",
              "      <td>Original</td>\n",
              "      <td>Sep 1, 2001</td>\n",
              "      <td>https://myanimelist.net/anime/5/Cowboy_Bebop__...</td>\n",
              "    </tr>\n",
              "  </tbody>\n",
              "</table>\n",
              "</div>"
            ],
            "text/plain": [
              "   Anime_id  ...                                               Link\n",
              "0         1  ...       https://myanimelist.net/anime/1/Cowboy_Bebop\n",
              "1         5  ...  https://myanimelist.net/anime/5/Cowboy_Bebop__...\n",
              "\n",
              "[2 rows x 15 columns]"
            ]
          },
          "metadata": {
            "tags": []
          },
          "execution_count": 24
        }
      ]
    },
    {
      "cell_type": "code",
      "metadata": {
        "trusted": true,
        "colab": {
          "base_uri": "https://localhost:8080/"
        },
        "id": "vejYFsYjymbA",
        "outputId": "0aab5fc5-db55-4169-8032-da0d6448906e"
      },
      "source": [
        "features = ['Genre','Producer', 'Studio']\n",
        "\n",
        "print(anime[features].isnull().sum())"
      ],
      "execution_count": null,
      "outputs": [
        {
          "output_type": "stream",
          "text": [
            "Genre       2012\n",
            "Producer    9367\n",
            "Studio      9083\n",
            "dtype: int64\n"
          ],
          "name": "stdout"
        }
      ]
    },
    {
      "cell_type": "code",
      "metadata": {
        "trusted": true,
        "id": "lV_JZp22ymbB"
      },
      "source": [
        "anime[features] = anime[features].fillna('[' ']')"
      ],
      "execution_count": null,
      "outputs": []
    },
    {
      "cell_type": "code",
      "metadata": {
        "trusted": true,
        "id": "sSckYRRcymbB"
      },
      "source": [
        "from ast import literal_eval\n",
        "\n",
        "for feature in features:\n",
        "    anime[feature] = anime[feature].apply(literal_eval)"
      ],
      "execution_count": null,
      "outputs": []
    },
    {
      "cell_type": "code",
      "metadata": {
        "trusted": true,
        "colab": {
          "base_uri": "https://localhost:8080/"
        },
        "id": "bz0VuZHBymbB",
        "outputId": "71acc4ce-6805-42c7-8427-425441a2d945"
      },
      "source": [
        "anime.Type.unique()"
      ],
      "execution_count": null,
      "outputs": [
        {
          "output_type": "execute_result",
          "data": {
            "text/plain": [
              "array(['TV', 'Movie', 'OVA', 'Special', 'ONA', 'Music', 'Unknown', nan],\n",
              "      dtype=object)"
            ]
          },
          "metadata": {
            "tags": []
          },
          "execution_count": 28
        }
      ]
    },
    {
      "cell_type": "code",
      "metadata": {
        "trusted": true,
        "id": "CqMEM7qPymbB"
      },
      "source": [
        "def clean_data(x):\n",
        "    if isinstance(x, list):\n",
        "        return [str.lower(i.replace(\" \",\"\")) for i in x]\n",
        "    \n",
        "    else:\n",
        "        if isinstance(x, str):\n",
        "            return str.lower(x.replace(\" \",\"\"))\n",
        "        else:\n",
        "            return \"\""
      ],
      "execution_count": null,
      "outputs": []
    },
    {
      "cell_type": "code",
      "metadata": {
        "trusted": true,
        "id": "iG7bgATSymbB"
      },
      "source": [
        "features = ['Genre','Producer', 'Studio', 'Type']\n",
        "\n",
        "for feature in features:\n",
        "    anime[feature] = anime[feature].apply(clean_data)"
      ],
      "execution_count": null,
      "outputs": []
    },
    {
      "cell_type": "code",
      "metadata": {
        "trusted": true,
        "colab": {
          "base_uri": "https://localhost:8080/",
          "height": 282
        },
        "id": "v5iHkargymbC",
        "outputId": "3d05733a-122f-4747-d724-40f8c9cbf9cd"
      },
      "source": [
        "anime.head(2)"
      ],
      "execution_count": null,
      "outputs": [
        {
          "output_type": "execute_result",
          "data": {
            "text/html": [
              "<div>\n",
              "<style scoped>\n",
              "    .dataframe tbody tr th:only-of-type {\n",
              "        vertical-align: middle;\n",
              "    }\n",
              "\n",
              "    .dataframe tbody tr th {\n",
              "        vertical-align: top;\n",
              "    }\n",
              "\n",
              "    .dataframe thead th {\n",
              "        text-align: right;\n",
              "    }\n",
              "</style>\n",
              "<table border=\"1\" class=\"dataframe\">\n",
              "  <thead>\n",
              "    <tr style=\"text-align: right;\">\n",
              "      <th></th>\n",
              "      <th>Anime_id</th>\n",
              "      <th>Title</th>\n",
              "      <th>Genre</th>\n",
              "      <th>Synopsis</th>\n",
              "      <th>Type</th>\n",
              "      <th>Producer</th>\n",
              "      <th>Studio</th>\n",
              "      <th>Rating</th>\n",
              "      <th>ScoredBy</th>\n",
              "      <th>Popularity</th>\n",
              "      <th>Members</th>\n",
              "      <th>Episodes</th>\n",
              "      <th>Source</th>\n",
              "      <th>Aired</th>\n",
              "      <th>Link</th>\n",
              "    </tr>\n",
              "  </thead>\n",
              "  <tbody>\n",
              "    <tr>\n",
              "      <th>0</th>\n",
              "      <td>1</td>\n",
              "      <td>Cowboy Bebop</td>\n",
              "      <td>[action, adventure, comedy, drama, sci-fi, space]</td>\n",
              "      <td>In the year 2071, humanity has colonized sever...</td>\n",
              "      <td>tv</td>\n",
              "      <td>[bandaivisual]</td>\n",
              "      <td>[sunrise]</td>\n",
              "      <td>8.81</td>\n",
              "      <td>363889.0</td>\n",
              "      <td>39.0</td>\n",
              "      <td>704490.0</td>\n",
              "      <td>26.0</td>\n",
              "      <td>Original</td>\n",
              "      <td>Apr 3, 1998 to Apr 24, 1999</td>\n",
              "      <td>https://myanimelist.net/anime/1/Cowboy_Bebop</td>\n",
              "    </tr>\n",
              "    <tr>\n",
              "      <th>1</th>\n",
              "      <td>5</td>\n",
              "      <td>Cowboy Bebop Tengoku no Tobira</td>\n",
              "      <td>[action, space, drama, mystery, sci-fi]</td>\n",
              "      <td>Another day, another bountyâsuch is the life...</td>\n",
              "      <td>movie</td>\n",
              "      <td>[sunrise, bandaivisual]</td>\n",
              "      <td>[bones]</td>\n",
              "      <td>8.41</td>\n",
              "      <td>111187.0</td>\n",
              "      <td>475.0</td>\n",
              "      <td>179899.0</td>\n",
              "      <td>1.0</td>\n",
              "      <td>Original</td>\n",
              "      <td>Sep 1, 2001</td>\n",
              "      <td>https://myanimelist.net/anime/5/Cowboy_Bebop__...</td>\n",
              "    </tr>\n",
              "  </tbody>\n",
              "</table>\n",
              "</div>"
            ],
            "text/plain": [
              "   Anime_id  ...                                               Link\n",
              "0         1  ...       https://myanimelist.net/anime/1/Cowboy_Bebop\n",
              "1         5  ...  https://myanimelist.net/anime/5/Cowboy_Bebop__...\n",
              "\n",
              "[2 rows x 15 columns]"
            ]
          },
          "metadata": {
            "tags": []
          },
          "execution_count": 31
        }
      ]
    },
    {
      "cell_type": "code",
      "metadata": {
        "trusted": true,
        "colab": {
          "base_uri": "https://localhost:8080/"
        },
        "id": "BKyFdR2SymbC",
        "outputId": "26ca5110-f8e7-4efe-e596-e4bb7f4f56d7"
      },
      "source": [
        "features"
      ],
      "execution_count": null,
      "outputs": [
        {
          "output_type": "execute_result",
          "data": {
            "text/plain": [
              "['Genre', 'Producer', 'Studio', 'Type']"
            ]
          },
          "metadata": {
            "tags": []
          },
          "execution_count": 32
        }
      ]
    },
    {
      "cell_type": "code",
      "metadata": {
        "trusted": true,
        "id": "hiVKYTnZymbC"
      },
      "source": [
        "def create_soup(x):\n",
        "    return \" \".join(x['Genre']) + \" \" + x['Type'] + \" \" + \" \".join(x['Producer']) + \" \" + \" \".join(x['Studio']) + \" \" + x['Synopsis'] + \" \" + \" \".join(x['Studio']) "
      ],
      "execution_count": null,
      "outputs": []
    },
    {
      "cell_type": "code",
      "metadata": {
        "trusted": true,
        "id": "5JhiToBIymbC"
      },
      "source": [
        "anime['soup'] = anime.apply(create_soup, axis=1)"
      ],
      "execution_count": null,
      "outputs": []
    },
    {
      "cell_type": "code",
      "metadata": {
        "trusted": true,
        "colab": {
          "base_uri": "https://localhost:8080/"
        },
        "id": "U_M7LmydymbC",
        "outputId": "56ba3664-b4af-4d33-bdaa-e050d83a80a4"
      },
      "source": [
        "anime['soup']"
      ],
      "execution_count": null,
      "outputs": [
        {
          "output_type": "execute_result",
          "data": {
            "text/plain": [
              "0        action adventure comedy drama sci-fi space tv ...\n",
              "1        action space drama mystery sci-fi movie sunris...\n",
              "2        action sci-fi adventure comedy drama shounen t...\n",
              "3        action magic police supernatural drama mystery...\n",
              "4        adventure fantasy shounen supernatural tv  toe...\n",
              "                               ...                        \n",
              "16997                                          special    \n",
              "16998                                               tv    \n",
              "16999                                          special    \n",
              "17000                                                     \n",
              "17001                                              ova    \n",
              "Name: soup, Length: 17002, dtype: object"
            ]
          },
          "metadata": {
            "tags": []
          },
          "execution_count": 35
        }
      ]
    },
    {
      "cell_type": "code",
      "metadata": {
        "trusted": true,
        "id": "bW0fp4umymbD"
      },
      "source": [
        "from sklearn.feature_extraction.text import CountVectorizer\n",
        "\n",
        "count = CountVectorizer(stop_words='english')\n",
        "count_matrix = count.fit_transform(anime['soup'])\n",
        "\n",
        "from sklearn.metrics.pairwise import cosine_similarity\n",
        "\n",
        "cosine_sim2 = cosine_similarity(count_matrix, count_matrix)"
      ],
      "execution_count": null,
      "outputs": []
    },
    {
      "cell_type": "code",
      "metadata": {
        "trusted": true,
        "id": "jI70zF5AymbD"
      },
      "source": [
        "anime = anime.reset_index()\n",
        "indices = pd.Series(anime.index, index=anime['Title'])"
      ],
      "execution_count": null,
      "outputs": []
    },
    {
      "cell_type": "code",
      "metadata": {
        "trusted": true,
        "colab": {
          "base_uri": "https://localhost:8080/"
        },
        "id": "J5zUzw5ZymbD",
        "outputId": "13e78d4a-1870-43df-efed-ad7c613ce8c4"
      },
      "source": [
        "indices"
      ],
      "execution_count": null,
      "outputs": [
        {
          "output_type": "execute_result",
          "data": {
            "text/plain": [
              "Title\n",
              "Cowboy Bebop                                         0\n",
              "Cowboy Bebop Tengoku no Tobira                       1\n",
              "Trigun                                               2\n",
              "Witch Hunter Robin                                   3\n",
              "Bouken Ou Beet                                       4\n",
              "                                                 ...  \n",
              "Sore Ike Anpanman Anpanman to Kaizoku Lobster    16997\n",
              "X Bomber                                         16998\n",
              "X Bomber Pilot                                   16999\n",
              "Gankochan                                        17000\n",
              "Original CVP Momoko                              17001\n",
              "Length: 17002, dtype: int64"
            ]
          },
          "metadata": {
            "tags": []
          },
          "execution_count": 38
        }
      ]
    },
    {
      "cell_type": "code",
      "metadata": {
        "trusted": true,
        "colab": {
          "base_uri": "https://localhost:8080/"
        },
        "id": "beDILOwbymbD",
        "outputId": "bbedf2be-6268-4086-c023-aa064248e80a"
      },
      "source": [
        "get_recommendations('Cowboy Bebop', cosine_sim2)"
      ],
      "execution_count": null,
      "outputs": [
        {
          "output_type": "execute_result",
          "data": {
            "text/plain": [
              "5616                                Planetes Picture Drama\n",
              "1                           Cowboy Bebop Tengoku no Tobira\n",
              "13882                                       Top wo Nerae 3\n",
              "14549                                New HyakujuuOu GoLion\n",
              "13166                                              Ladyspo\n",
              "13130                                           Zoids Wild\n",
              "2318          Ginga Tetsudou Monogatari Eien e no Bunkiten\n",
              "11099                                    Making of Lensman\n",
              "5075                  Ginga Hyouryuu Vifam Atsumatta 13nin\n",
              "5081                  Shin Mashin Eiyuuden Wataru Majinzan\n",
              "3289                                  Ginga Senpuu Braiger\n",
              "10413    Mobile Suit Gundam 0083 Stardust Memory Pictur...\n",
              "13902                                          Yusei Kamen\n",
              "4173                   Sora wo Kakeru Shoujo Picture Drama\n",
              "13593                           Voltron Legendary Defender\n",
              "Name: Title, dtype: object"
            ]
          },
          "metadata": {
            "tags": []
          },
          "execution_count": 39
        }
      ]
    },
    {
      "cell_type": "code",
      "metadata": {
        "trusted": true,
        "colab": {
          "base_uri": "https://localhost:8080/"
        },
        "id": "UrcaxYaCymbD",
        "outputId": "ef8fb5e7-173d-4a9c-f88b-45a32d80fcd1"
      },
      "source": [
        "get_recommendations('Sen to Chihiro no Kamikakushi', cosine_sim2)"
      ],
      "execution_count": null,
      "outputs": [
        {
          "output_type": "execute_result",
          "data": {
            "text/plain": [
              "15170           Naruto Shippuuden Movie 6  Road to Ninja\n",
              "752                                           Jyu Oh Sei\n",
              "12846                                     Mirai no Mirai\n",
              "10061                                       Shounen Maid\n",
              "4635                             Karigurashi no Arrietty\n",
              "10666                                Kushimitama Samurai\n",
              "2727                                      Hatenkou Yuugi\n",
              "16592                                           Sankarea\n",
              "7619     Kero Kero Keroppi no Yowamushiouji no Daibouken\n",
              "10040                                    Kemushi no Boro\n",
              "6610           Ashita Genki ni Nare Hanbun no Satsumaimo\n",
              "15144                   Kino no Tabi The Beautiful World\n",
              "5420                                Da Yu Hai Tang Movie\n",
              "6263                      Majokko Shimai no Yoyo to Nene\n",
              "1017              Fushigi no Umi no Nadia Original Movie\n",
              "Name: Title, dtype: object"
            ]
          },
          "metadata": {
            "tags": []
          },
          "execution_count": 40
        }
      ]
    },
    {
      "cell_type": "code",
      "metadata": {
        "trusted": true,
        "colab": {
          "base_uri": "https://localhost:8080/"
        },
        "id": "kG0WC6SLymbE",
        "outputId": "ef0a8ca2-b953-430e-cec4-35883f0de47b"
      },
      "source": [
        "get_recommendations('Mirai no Mirai', cosine_sim2)"
      ],
      "execution_count": null,
      "outputs": [
        {
          "output_type": "execute_result",
          "data": {
            "text/plain": [
              "3545                             Umineko no Naku Koro ni\n",
              "3889                                   Suteneko Torachan\n",
              "2319                                       Umi no Triton\n",
              "4320                           Doubutsu Mura no Daisodou\n",
              "9944                    Tenchi Muyou Ryououki 4th Season\n",
              "12024                                        Yao Shen Ji\n",
              "5237                                               Oshin\n",
              "6703                                         Golden Time\n",
              "5905                        Ookami Kodomo no Ame to Yuki\n",
              "6180                           Kono Sekai no Katasumi ni\n",
              "305                            Mama wa Shougaku 4 Nensei\n",
              "13450      Sayonara no Asa ni Yakusoku no Hana o KazarÅ\n",
              "8728                                           Hand Soap\n",
              "6526                                 Dareka no Manazashi\n",
              "8653     Kyoukai no Kanata Movie 2 Ill Be Here  Miraihen\n",
              "Name: Title, dtype: object"
            ]
          },
          "metadata": {
            "tags": []
          },
          "execution_count": 41
        }
      ]
    },
    {
      "cell_type": "code",
      "metadata": {
        "trusted": true,
        "colab": {
          "base_uri": "https://localhost:8080/",
          "height": 80
        },
        "id": "9E4VrOCxymbE",
        "outputId": "2fe107c0-e376-4ec1-fd76-4224caad2e87"
      },
      "source": [
        "display(anime[['Title', 'Rating', 'Producer', 'Studio']].loc[anime['Title'] == 'Sen to Chihiro no Kamikakushi'])"
      ],
      "execution_count": null,
      "outputs": [
        {
          "output_type": "display_data",
          "data": {
            "text/html": [
              "<div>\n",
              "<style scoped>\n",
              "    .dataframe tbody tr th:only-of-type {\n",
              "        vertical-align: middle;\n",
              "    }\n",
              "\n",
              "    .dataframe tbody tr th {\n",
              "        vertical-align: top;\n",
              "    }\n",
              "\n",
              "    .dataframe thead th {\n",
              "        text-align: right;\n",
              "    }\n",
              "</style>\n",
              "<table border=\"1\" class=\"dataframe\">\n",
              "  <thead>\n",
              "    <tr style=\"text-align: right;\">\n",
              "      <th></th>\n",
              "      <th>Title</th>\n",
              "      <th>Rating</th>\n",
              "      <th>Producer</th>\n",
              "      <th>Studio</th>\n",
              "    </tr>\n",
              "  </thead>\n",
              "  <tbody>\n",
              "    <tr>\n",
              "      <th>183</th>\n",
              "      <td>Sen to Chihiro no Kamikakushi</td>\n",
              "      <td>8.92</td>\n",
              "      <td>[toho]</td>\n",
              "      <td>[studioghibli]</td>\n",
              "    </tr>\n",
              "  </tbody>\n",
              "</table>\n",
              "</div>"
            ],
            "text/plain": [
              "                             Title  Rating Producer          Studio\n",
              "183  Sen to Chihiro no Kamikakushi    8.92   [toho]  [studioghibli]"
            ]
          },
          "metadata": {
            "tags": []
          }
        }
      ]
    }
  ]
}